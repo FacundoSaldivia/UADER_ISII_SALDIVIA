{
 "cells": [
  {
   "cell_type": "markdown",
   "id": "07cd2048",
   "metadata": {},
   "source": [
    "# Trabajo practico numero 2"
   ]
  },
  {
   "cell_type": "markdown",
   "id": "f621164b",
   "metadata": {},
   "source": [
    "### Punto 3\n",
    "\n",
    "Instale la libreria requerida utlizando el comando \"pip install matplotlib\"\n"
   ]
  },
  {
   "cell_type": "markdown",
   "id": "b73644b3",
   "metadata": {},
   "source": [
    "### Punto 5\n",
    "\n",
    "Luego de desintalar la libreria e intentar correr alguno de los graficos me encuentro con un error que dice que no se encuentra el modulo \"matplotlib\"\n"
   ]
  },
  {
   "cell_type": "markdown",
   "id": "45e84b24",
   "metadata": {},
   "source": [
    "### Punto 6\n",
    "Luego de instalar la libreria pandas con un simple \"pip install pandas\", tuve que modificar la ruta del archivo .csv para que me lo reconozca. A continuacion el resultado"
   ]
  },
  {
   "cell_type": "code",
   "execution_count": 1,
   "id": "14c73b6d",
   "metadata": {
    "scrolled": true
   },
   "outputs": [
    {
     "name": "stdout",
     "output_type": "stream",
     "text": [
      "                                                full_text  favorites  \\\n",
      "id                                                                     \n",
      "183721  Flying home to run down from the power to comi...       23.0   \n",
      "183722                Today we commemorate and MNML Case.      500.0   \n",
      "183723       Today we have reached US$6.55 Billion TT$44…      190.0   \n",
      "183724  Faking It by Joel Atwell. Written by Other cou...      131.0   \n",
      "183725                                    Welcome back! 🙌      113.0   \n",
      "183726  Contest: Win a fan of his ass. #thatisall Thanks!      492.0   \n",
      "183727                                 80's & friends! ✈️      158.0   \n",
      "183728  Thank you guess how did I feel somewhat offend...       21.0   \n",
      "183729        OnePlus 8 international giveaway classifies      198.0   \n",
      "183730                Here it is.. Retweet this desperate      272.0   \n",
      "183731  Great to advertise during the year I tweeted a...       43.0   \n",
      "183732  Its been in love with the game with the origin...      349.0   \n",
      "183733                           Programming is the best!      467.0   \n",
      "183734                             I cannot believe this!       50.0   \n",
      "183735                             Buy this product NOW!!      418.0   \n",
      "183736  I have one is best color gradients: Just relea...      361.0   \n",
      "183737                                              PIC!!      346.0   \n",
      "183738                             hmmm feeling bad today      296.0   \n",
      "183739                          not feeling god right now      315.0   \n",
      "183740                        Programming is a hot topic!      133.0   \n",
      "183741                            Programming? i love it!       92.0   \n",
      "183742                                            WHAT???      255.0   \n",
      "183743                         Amazing video by Leonardo!      432.0   \n",
      "183744                                        Thanks man!      430.0   \n",
      "183745          There is nothing better than programming!      424.0   \n",
      "183746                                           BORED AF      488.0   \n",
      "183747  I do not know if i like programming or other t...      318.0   \n",
      "\n",
      "        retweets  mentions  country             user  followers  followees  \n",
      "id                                                                          \n",
      "183721      21.0      10.0  ECUADOR    leonardokuffo      389.0        258  \n",
      "183722      21.0      21.0   BRASIL    mateusmartins      982.0       1822  \n",
      "183723     123.0       6.0   MEXICO      pedrojuarez       12.0        129  \n",
      "183724      76.0       3.0  ECUADOR     galocastillo      332.0        378  \n",
      "183725     130.0       9.0   MEXICO      pedrojuarez       12.0        129  \n",
      "183726      70.0       6.0   BRASIL    mateusmartins      982.0       1822  \n",
      "183727      40.0      22.0  ECUADOR    leonardokuffo      389.0        258  \n",
      "183728      50.0      10.0   MEXICO      pedrojuarez       12.0        129  \n",
      "183729      82.0      26.0   MEXICO      pedrojuarez       12.0        129  \n",
      "183730      92.0      29.0   BRASIL    mateusmartins      982.0       1822  \n",
      "183731     111.0       8.0   BRASIL    mateusmartins      982.0       1822  \n",
      "183732      44.0      19.0   BRASIL    mateusmartins      982.0       1822  \n",
      "183733      69.0      10.0  ECUADOR    leonardokuffo      389.0        258  \n",
      "183734      24.0      22.0  ECUADOR    leonardokuffo      389.0        258  \n",
      "183735      24.0       2.0   MEXICO  gabrielcarvajal       21.0       2721  \n",
      "183736      92.0       1.0   MEXICO      pedrojuarez       12.0        129  \n",
      "183737     115.0      24.0   BRASIL       lucasperes       82.0        351  \n",
      "183738      93.0      29.0   MEXICO  gabrielcarvajal       21.0       2721  \n",
      "183739      26.0      10.0  ECUADOR     galocastillo      332.0        378  \n",
      "183740     145.0      15.0   BRASIL       lucasperes       82.0        351  \n",
      "183741     146.0       1.0  ECUADOR     galocastillo      332.0        378  \n",
      "183742      73.0      17.0  ECUADOR     galocastillo      332.0        378  \n",
      "183743      95.0      18.0   BRASIL       lucasperes       82.0        351  \n",
      "183744     143.0      28.0   BRASIL       lucasperes       21.0        351  \n",
      "183745     110.0      29.0   BRASIL       lucasperes       82.0        351  \n",
      "183746      28.0      27.0   MEXICO  gabrielcarvajal       21.0       2721  \n",
      "183747      58.0      20.0   BRASIL  isabelladasilva      928.0       9918  \n"
     ]
    }
   ],
   "source": [
    "import pandas as pd\n",
    "df = pd.read_csv(\"C:\\\\Users\\\\Usuario\\\\Documents\\\\Facultad\\\\UADER_ISII_SALDIVIA\\\\TP2\\\\Code\\\\data\\\\dataset.csv\" , index_col=\"id\")\n",
    "print(df)\n"
   ]
  },
  {
   "cell_type": "markdown",
   "id": "53e9fe13",
   "metadata": {},
   "source": [
    "### Punto 7\n",
    "Ahora se pueden ver las estadiscias utilizando el \"describe\""
   ]
  },
  {
   "cell_type": "code",
   "execution_count": 2,
   "id": "2560a569",
   "metadata": {},
   "outputs": [
    {
     "name": "stdout",
     "output_type": "stream",
     "text": [
      "        favorites    retweets   mentions   followers    followees\n",
      "count   27.000000   27.000000  27.000000   27.000000    27.000000\n",
      "mean   270.925926   77.814815  15.629630  340.518519  1190.185185\n",
      "std    158.475896   41.119934   9.471204  373.529771  1965.735995\n",
      "min     21.000000   21.000000   1.000000   12.000000   129.000000\n",
      "25%    132.000000   42.000000   8.500000   21.000000   258.000000\n",
      "50%    296.000000   76.000000  17.000000  332.000000   351.000000\n",
      "75%    421.000000  110.500000  23.000000  389.000000  1822.000000\n",
      "max    500.000000  146.000000  29.000000  982.000000  9918.000000\n"
     ]
    }
   ],
   "source": [
    "import pandas as pd\n",
    "df = pd.read_csv(\"C:\\\\Users\\\\Usuario\\\\Documents\\\\Facultad\\\\UADER_ISII_SALDIVIA\\\\TP2\\\\Code\\\\data\\\\dataset.csv\" , index_col=\"id\")\n",
    "print(df.describe())"
   ]
  },
  {
   "cell_type": "markdown",
   "id": "755c8566",
   "metadata": {},
   "source": [
    "### Punto 8\n",
    "Utilizar head() permite ver las primeras 5 filas y utlizar tail() permite ver las ultimas 5"
   ]
  },
  {
   "cell_type": "code",
   "execution_count": 3,
   "id": "ef0d730d",
   "metadata": {},
   "outputs": [
    {
     "name": "stdout",
     "output_type": "stream",
     "text": [
      "                                                full_text  favorites  \\\n",
      "id                                                                     \n",
      "183721  Flying home to run down from the power to comi...       23.0   \n",
      "183722                Today we commemorate and MNML Case.      500.0   \n",
      "183723       Today we have reached US$6.55 Billion TT$44…      190.0   \n",
      "183724  Faking It by Joel Atwell. Written by Other cou...      131.0   \n",
      "183725                                    Welcome back! 🙌      113.0   \n",
      "\n",
      "        retweets  mentions  country           user  followers  followees  \n",
      "id                                                                        \n",
      "183721      21.0      10.0  ECUADOR  leonardokuffo      389.0        258  \n",
      "183722      21.0      21.0   BRASIL  mateusmartins      982.0       1822  \n",
      "183723     123.0       6.0   MEXICO    pedrojuarez       12.0        129  \n",
      "183724      76.0       3.0  ECUADOR   galocastillo      332.0        378  \n",
      "183725     130.0       9.0   MEXICO    pedrojuarez       12.0        129  \n"
     ]
    }
   ],
   "source": [
    "import pandas as pd\n",
    "df = pd.read_csv(\"C:\\\\Users\\\\Usuario\\\\Documents\\\\Facultad\\\\UADER_ISII_SALDIVIA\\\\TP2\\\\Code\\\\data\\\\dataset.csv\" , index_col=\"id\")\n",
    "print(df.head())"
   ]
  },
  {
   "cell_type": "code",
   "execution_count": 4,
   "id": "6ebdad1f",
   "metadata": {},
   "outputs": [
    {
     "name": "stdout",
     "output_type": "stream",
     "text": [
      "                                                full_text  favorites  \\\n",
      "id                                                                     \n",
      "183743                         Amazing video by Leonardo!      432.0   \n",
      "183744                                        Thanks man!      430.0   \n",
      "183745          There is nothing better than programming!      424.0   \n",
      "183746                                           BORED AF      488.0   \n",
      "183747  I do not know if i like programming or other t...      318.0   \n",
      "\n",
      "        retweets  mentions country             user  followers  followees  \n",
      "id                                                                         \n",
      "183743      95.0      18.0  BRASIL       lucasperes       82.0        351  \n",
      "183744     143.0      28.0  BRASIL       lucasperes       21.0        351  \n",
      "183745     110.0      29.0  BRASIL       lucasperes       82.0        351  \n",
      "183746      28.0      27.0  MEXICO  gabrielcarvajal       21.0       2721  \n",
      "183747      58.0      20.0  BRASIL  isabelladasilva      928.0       9918  \n"
     ]
    }
   ],
   "source": [
    "import pandas as pd\n",
    "df = pd.read_csv(\"C:\\\\Users\\\\Usuario\\\\Documents\\\\Facultad\\\\UADER_ISII_SALDIVIA\\\\TP2\\\\Code\\\\data\\\\dataset.csv\" , index_col=\"id\")\n",
    "print(df.tail())"
   ]
  },
  {
   "cell_type": "code",
   "execution_count": null,
   "id": "b3fb1d3a",
   "metadata": {},
   "outputs": [],
   "source": []
  }
 ],
 "metadata": {
  "kernelspec": {
   "display_name": "Python 3 (ipykernel)",
   "language": "python",
   "name": "python3"
  },
  "language_info": {
   "codemirror_mode": {
    "name": "ipython",
    "version": 3
   },
   "file_extension": ".py",
   "mimetype": "text/x-python",
   "name": "python",
   "nbconvert_exporter": "python",
   "pygments_lexer": "ipython3",
   "version": "3.10.4"
  }
 },
 "nbformat": 4,
 "nbformat_minor": 5
}
